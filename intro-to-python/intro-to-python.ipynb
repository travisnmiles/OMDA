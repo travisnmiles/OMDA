{
  "cells": [
    {
      "cell_type": "markdown",
      "metadata": {
        "id": "view-in-github",
        "colab_type": "text"
      },
      "source": [
        "<a href=\"https://colab.research.google.com/github/travisnmiles/OMDA/blob/main/intro-to-python/intro-to-python.ipynb\" target=\"_parent\"><img src=\"https://colab.research.google.com/assets/colab-badge.svg\" alt=\"Open In Colab\"/></a>"
      ]
    },
    {
      "cell_type": "markdown",
      "id": "e2588c88-d16d-4da1-8b13-3b425a446267",
      "metadata": {
        "id": "e2588c88-d16d-4da1-8b13-3b425a446267"
      },
      "source": [
        "# Intro to Python\n",
        "\n",
        "\n",
        "\n",
        "## Objectives\n",
        "\n",
        "1. Getting started with python programming language!\n",
        "\n",
        "\n",
        "---\n",
        "\n",
        "## Credit:\n",
        "\n",
        "things here are a mix of the really excellent Software Carpentry tutorial on Python: http://swcarpentry.github.io/python-novice-inflammation/ .\n",
        "\n",
        "and the official python tutorial: https://docs.python.org/3/tutorial/\n",
        "\n",
        "And Ryan Abernathys open book, which we will be looking at a lot! https://earth-env-data-science.github.io/lectures/core_python/python_fundamentals.html\n",
        "\n",
        "I've made some slight adaptations here and there, but the credit goes to those organizations. I hope I am using this correctly under the licences:\n",
        "\n",
        "https://earth-env-data-science.github.io/LICENSE.html\n",
        "https://swcarpentry.github.io/python-novice-inflammation/LICENSE.html"
      ]
    },
    {
      "cell_type": "markdown",
      "id": "55dc7df6-3add-4edc-b8fd-bb353e866a57",
      "metadata": {
        "id": "55dc7df6-3add-4edc-b8fd-bb353e866a57"
      },
      "source": [
        "### What to expect at the end of the course"
      ]
    },
    {
      "cell_type": "markdown",
      "id": "4d5fbe37-653c-4a71-8559-db6d2c84ace2",
      "metadata": {
        "id": "4d5fbe37-653c-4a71-8559-db6d2c84ace2"
      },
      "source": [
        "![image](https://www.frontiersin.org/files/Articles/1224609/fmars-10-1224609-HTML-r1/image_m/fmars-10-1224609-g003.jpg)"
      ]
    },
    {
      "cell_type": "markdown",
      "id": "571951d3-58f0-45c1-be41-27acf9705b4e",
      "metadata": {
        "id": "571951d3-58f0-45c1-be41-27acf9705b4e"
      },
      "source": [
        "* or a plot like this"
      ]
    },
    {
      "cell_type": "markdown",
      "id": "d603568f-1739-4a17-879b-32cff95af0b5",
      "metadata": {
        "id": "d603568f-1739-4a17-879b-32cff95af0b5"
      },
      "source": [
        "<img src=\"https://www.frontiersin.org/files/Articles/1224609/fmars-10-1224609-HTML-r1/image_m/fmars-10-1224609-g006.jpg\" alt=\"TS profile\" width=\"600\"> <adjust the width as needed>"
      ]
    },
    {
      "cell_type": "markdown",
      "id": "38020920-b7c7-491a-83c2-f0815469e228",
      "metadata": {
        "id": "38020920-b7c7-491a-83c2-f0815469e228"
      },
      "source": [
        "[Miles Travis N. et. al (2023). Ocean mixing during Hurricane Ida (2021): The impact of a fresh water barrier layer](https://doi.org/10.3389/fmars.2023.1224609)\n"
      ]
    },
    {
      "cell_type": "markdown",
      "id": "6f084e02-bc47-4211-99e3-4f91af1c6ced",
      "metadata": {
        "id": "6f084e02-bc47-4211-99e3-4f91af1c6ced"
      },
      "source": [
        "![timeseries](https://th-thumbnailer.cdn-si-edu.com/eq0H741hd7g7NheyjLEXVCUEWl8=/1000x750/filters:no_upscale()/https://tf-cmsv2-smithsonianmag-media.s3.amazonaws.com/filer/2012080609400608_06_2012_sea-ice.gif)"
      ]
    },
    {
      "cell_type": "markdown",
      "id": "154102a5-8770-4760-af87-432f6fc23ada",
      "metadata": {
        "id": "154102a5-8770-4760-af87-432f6fc23ada"
      },
      "source": [
        "[Resource of above plot](https://www.smithsonianmag.com/smart-news/everything-you-need-to-know-about-arctic-sea-ice-melt-in-one-10-second-animated-gif-13895202/)"
      ]
    },
    {
      "cell_type": "markdown",
      "id": "3f7a6ed6-4e78-4edf-9642-42bc47ba3634",
      "metadata": {
        "id": "3f7a6ed6-4e78-4edf-9642-42bc47ba3634"
      },
      "source": [
        "# What is python and why do we use it?  \n",
        "\n",
        "Python is a interpreted programming language that is commonly used in Marine Science to read, analyse and visualize the data that we collect in the field.\n",
        "\n",
        "In this course, we will be executing our python code in Jupyter notebook environment like the one we are using right now"
      ]
    },
    {
      "cell_type": "markdown",
      "id": "4e5ecfc2-c332-47d1-b4d5-3ecb63fa15d4",
      "metadata": {
        "tags": [],
        "id": "4e5ecfc2-c332-47d1-b4d5-3ecb63fa15d4"
      },
      "source": [
        "## Math ##\n",
        "\n",
        "Basic arithmetic and boolean logic is part of the core python language."
      ]
    },
    {
      "cell_type": "code",
      "execution_count": null,
      "id": "98d2690e-91d7-448a-a1b6-26a469393ae4",
      "metadata": {
        "id": "98d2690e-91d7-448a-a1b6-26a469393ae4",
        "outputId": "1a852ede-8ce7-46ca-bc83-14d23ab835c6"
      },
      "outputs": [
        {
          "data": {
            "text/plain": [
              "-3"
            ]
          },
          "execution_count": 1,
          "metadata": {},
          "output_type": "execute_result"
        }
      ],
      "source": [
        "# addition / subtraction\n",
        "1+1-5"
      ]
    },
    {
      "cell_type": "code",
      "execution_count": null,
      "id": "fe8354ec-b08f-481f-a3a5-a514d67044ca",
      "metadata": {
        "id": "fe8354ec-b08f-481f-a3a5-a514d67044ca",
        "outputId": "be6b80d4-4d28-49a7-eef0-9ca56ec7d287"
      },
      "outputs": [
        {
          "data": {
            "text/plain": [
              "50"
            ]
          },
          "execution_count": 2,
          "metadata": {},
          "output_type": "execute_result"
        }
      ],
      "source": [
        "# multiplication\n",
        "5 * 10"
      ]
    },
    {
      "cell_type": "code",
      "execution_count": null,
      "id": "ce4fc496-374a-4708-bfae-b0dbbd01fb8d",
      "metadata": {
        "id": "ce4fc496-374a-4708-bfae-b0dbbd01fb8d",
        "outputId": "4b83bd15-d681-474f-b673-4cf304ee0dfd"
      },
      "outputs": [
        {
          "data": {
            "text/plain": [
              "0.5"
            ]
          },
          "execution_count": 3,
          "metadata": {},
          "output_type": "execute_result"
        }
      ],
      "source": [
        "# division\n",
        "1/2"
      ]
    },
    {
      "cell_type": "code",
      "execution_count": null,
      "id": "97d4c2e2-04d4-44ce-9faa-ebf774c34459",
      "metadata": {
        "id": "97d4c2e2-04d4-44ce-9faa-ebf774c34459",
        "outputId": "d82e407d-2631-4aac-d5c0-d7d0456cff2a"
      },
      "outputs": [
        {
          "data": {
            "text/plain": [
              "16"
            ]
          },
          "execution_count": 4,
          "metadata": {},
          "output_type": "execute_result"
        }
      ],
      "source": [
        "# exponentiation (raise 2 to the power of 4)\n",
        "2**4"
      ]
    },
    {
      "cell_type": "code",
      "execution_count": null,
      "id": "9434ee25-8517-454f-b3dd-8bb894bf2b7c",
      "metadata": {
        "tags": [],
        "id": "9434ee25-8517-454f-b3dd-8bb894bf2b7c",
        "outputId": "76f49bda-cad5-4d70-f902-1a071a848872"
      },
      "outputs": [
        {
          "data": {
            "text/plain": [
              "1"
            ]
          },
          "execution_count": 5,
          "metadata": {},
          "output_type": "execute_result"
        }
      ],
      "source": [
        "# rounding\n",
        "round(9/10)"
      ]
    },
    {
      "cell_type": "code",
      "execution_count": null,
      "id": "e48e52d6-705b-4fd1-b408-06c7ff6189a4",
      "metadata": {
        "id": "e48e52d6-705b-4fd1-b408-06c7ff6189a4"
      },
      "outputs": [],
      "source": [
        "# How many seconds are in a year (365.25 days in a year)?\n"
      ]
    },
    {
      "cell_type": "code",
      "execution_count": null,
      "id": "66c22a53-ad3f-4cdb-b45e-5be40989bd60",
      "metadata": {
        "id": "66c22a53-ad3f-4cdb-b45e-5be40989bd60"
      },
      "outputs": [],
      "source": [
        "# In Python, arithmetic operations follow a precedence order similar to the PEMA rule,\n",
        "# which is a standard in mathematics. PEMA stands for Parenthesis, Exponents,\n",
        "# Multiplication/Division, and Addition/Subtraction (from left to right)."
      ]
    },
    {
      "cell_type": "code",
      "execution_count": null,
      "id": "d8e44b87-d3c0-4fb9-b684-c393f681cde4",
      "metadata": {
        "id": "d8e44b87-d3c0-4fb9-b684-c393f681cde4",
        "outputId": "51ee6429-958b-47c2-8352-b41914db4506"
      },
      "outputs": [
        {
          "name": "stdout",
          "output_type": "stream",
          "text": [
            "1.0\n"
          ]
        }
      ],
      "source": [
        "expression = (5 + 3) * 2 ** 2 / 4 - 7\n",
        "result = expression\n",
        "print(result)"
      ]
    },
    {
      "cell_type": "markdown",
      "id": "8fb15139-4bd6-4ed2-8e70-9c9c31b16a89",
      "metadata": {
        "id": "8fb15139-4bd6-4ed2-8e70-9c9c31b16a89"
      },
      "source": [
        "## Basic Variables: Numbers and Strings ##\n",
        "\n",
        "A `variable` is a label for a piece of data"
      ]
    },
    {
      "cell_type": "code",
      "execution_count": null,
      "id": "12d0a756-d19b-4c6a-a55e-a4d053edbb93",
      "metadata": {
        "id": "12d0a756-d19b-4c6a-a55e-a4d053edbb93"
      },
      "outputs": [],
      "source": [
        "# comments are anything that comes after the \"#\" symbol\n",
        "# a comment is a note that is not  \"run\" by python, ie not code\n",
        "# We  leave comments throughout code to describe what a line or a block of code is doing\n",
        "\n",
        "a = 1       # assign 1 to variable a\n",
        "b = \"hello\" # assign \"hello\" to variable b"
      ]
    },
    {
      "cell_type": "markdown",
      "id": "b044369d-0a84-4ad2-ad3f-433abeabee76",
      "metadata": {
        "id": "b044369d-0a84-4ad2-ad3f-433abeabee76"
      },
      "source": [
        "Nothing happened when we ran the code cell, how do we see the variables?\n",
        "\n",
        "We can use a built-in python function: `print()`\n",
        "\n",
        "In general in python, a function will have a name (for example `print`) followed by parenthesis `()`. Things (called 'arguments') that you put into `()` get passed to the function and used to do whatever the function does.\n",
        "\n",
        "Let's use `print()` to see our variables"
      ]
    },
    {
      "cell_type": "code",
      "execution_count": null,
      "id": "07427fd6-f3d0-4f45-b0c5-f5e17888efd1",
      "metadata": {
        "id": "07427fd6-f3d0-4f45-b0c5-f5e17888efd1",
        "outputId": "f0612979-291d-41eb-8795-00ec11d13910"
      },
      "outputs": [
        {
          "name": "stdout",
          "output_type": "stream",
          "text": [
            "1\n"
          ]
        }
      ],
      "source": [
        "# how do we see our variables?\n",
        "print(a)"
      ]
    },
    {
      "cell_type": "code",
      "execution_count": null,
      "id": "c1865ec6-4c60-410f-9cdb-13f781624c74",
      "metadata": {
        "id": "c1865ec6-4c60-410f-9cdb-13f781624c74",
        "outputId": "d87cef1c-49f5-4493-b51d-692398eee64f"
      },
      "outputs": [
        {
          "name": "stdout",
          "output_type": "stream",
          "text": [
            "hello\n",
            "1 , hello\n"
          ]
        }
      ],
      "source": [
        "print(b)\n",
        "print(a,\",\",b)"
      ]
    },
    {
      "cell_type": "markdown",
      "id": "ad468821-901e-4030-a92c-a39d53f35379",
      "metadata": {
        "id": "ad468821-901e-4030-a92c-a39d53f35379"
      },
      "source": [
        "Variables can have different types. To find out what type your variables are use the built in function `type()`"
      ]
    },
    {
      "cell_type": "code",
      "execution_count": null,
      "id": "6138db00-bdb5-4765-ad15-3f2606f5910a",
      "metadata": {
        "id": "6138db00-bdb5-4765-ad15-3f2606f5910a",
        "outputId": "2851e752-81ae-41f8-d42c-cec008578ef5"
      },
      "outputs": [
        {
          "name": "stdout",
          "output_type": "stream",
          "text": [
            "<class 'int'>\n",
            "<class 'str'>\n"
          ]
        }
      ],
      "source": [
        "# what do you think the output here means?\n",
        "\n",
        "print(type(a))\n",
        "print(type(b))"
      ]
    },
    {
      "cell_type": "code",
      "execution_count": null,
      "id": "f6655c08-01bf-42c9-80c3-2cf51a83cad0",
      "metadata": {
        "id": "f6655c08-01bf-42c9-80c3-2cf51a83cad0",
        "outputId": "c1d89001-204b-4255-ab96-5f243d380b78"
      },
      "outputs": [
        {
          "data": {
            "text/plain": [
              "str"
            ]
          },
          "execution_count": 15,
          "metadata": {},
          "output_type": "execute_result"
        }
      ],
      "source": [
        "# as a shortcut, jupyter notebooks will automatically print whatever is on the last line\n",
        "type(b)"
      ]
    },
    {
      "cell_type": "markdown",
      "id": "4588bfd8-74f9-48ec-b9df-e03d8e81eb35",
      "metadata": {
        "id": "4588bfd8-74f9-48ec-b9df-e03d8e81eb35"
      },
      "source": [
        "We just saw two types of variables: `int` and `str`\n",
        "\n",
        "The different types of variables have different functions built into them.\n",
        "\n",
        "They can be accessed via the syntax `variable.method`\n",
        "\n",
        "In code notebooks like this one, you can autocomplete if you press `<tab>` to show you the methods available for a variable\n",
        "\n",
        "There are a million, but here is an example of one for strings which lets you capitalize a word"
      ]
    },
    {
      "cell_type": "code",
      "execution_count": null,
      "id": "307652fd-427d-4f2c-ab00-b3f095e3ffac",
      "metadata": {
        "id": "307652fd-427d-4f2c-ab00-b3f095e3ffac",
        "outputId": "24c590fe-24f6-4f9a-fbf5-8699f4ea24b9"
      },
      "outputs": [
        {
          "data": {
            "text/plain": [
              "'Hello'"
            ]
          },
          "execution_count": 16,
          "metadata": {},
          "output_type": "execute_result"
        }
      ],
      "source": [
        "# this calls the method\n",
        "b.capitalize()\n",
        "\n",
        "# there are lots of other methods"
      ]
    },
    {
      "cell_type": "markdown",
      "id": "dd83df25-391d-4822-a14c-124419b2669b",
      "metadata": {
        "id": "dd83df25-391d-4822-a14c-124419b2669b"
      },
      "source": [
        "in general if you use a method (like `b.capitalize()`) that does an action to your data you will follow it with `()` - think of the `()` as the sign for an action, or function.\n",
        "\n",
        "## you can perform calculations with variables\n",
        "\n",
        "these calculations act differently for different types of objects.\n",
        "\n",
        "What happens if we use `+` to add: numbers, strings, and numbers to a string?"
      ]
    },
    {
      "cell_type": "code",
      "execution_count": null,
      "id": "b2185a69-aa8f-4664-9d06-751716dd69a2",
      "metadata": {
        "id": "b2185a69-aa8f-4664-9d06-751716dd69a2",
        "outputId": "9ba8a1d5-8295-4c66-8da6-7f211d53c368"
      },
      "outputs": [
        {
          "name": "stdout",
          "output_type": "stream",
          "text": [
            "helloWorld\n"
          ]
        }
      ],
      "source": [
        "# binary operations act differently on different types of objects\n",
        "c = 'World'\n",
        "\n",
        "print(b + c)"
      ]
    },
    {
      "cell_type": "code",
      "execution_count": null,
      "id": "b8c3b71b-6b78-4263-afb7-d612f204981f",
      "metadata": {
        "id": "b8c3b71b-6b78-4263-afb7-d612f204981f",
        "outputId": "547c4ab5-63a3-467f-b773-39d3d84680f8"
      },
      "outputs": [
        {
          "name": "stdout",
          "output_type": "stream",
          "text": [
            "3\n"
          ]
        }
      ],
      "source": [
        "print(a + 2)"
      ]
    },
    {
      "cell_type": "code",
      "execution_count": null,
      "id": "fa01b5f8-db4e-4d38-814c-3dccd93a75be",
      "metadata": {
        "tags": [],
        "id": "fa01b5f8-db4e-4d38-814c-3dccd93a75be"
      },
      "outputs": [],
      "source": [
        "# print(a + b)"
      ]
    },
    {
      "cell_type": "markdown",
      "id": "f662fb9b-a938-4829-9320-aa0979ff35bb",
      "metadata": {
        "id": "f662fb9b-a938-4829-9320-aa0979ff35bb"
      },
      "source": [
        "Did you get an error? Good! We can use error descriptions (in the red boxes) to try to figure out what went wrong in our code. In this case, we tried to add an integer and a string together. Python cannot do that so it stopped that line of code from running."
      ]
    },
    {
      "cell_type": "markdown",
      "id": "4e1eeeb6-05cb-49c9-aa87-bc4784521588",
      "metadata": {
        "id": "4e1eeeb6-05cb-49c9-aa87-bc4784521588"
      },
      "source": [
        "# Installing and using packages"
      ]
    },
    {
      "cell_type": "markdown",
      "id": "00365f75-cc77-4d9f-bf0e-1d2cb7acba44",
      "metadata": {
        "id": "00365f75-cc77-4d9f-bf0e-1d2cb7acba44"
      },
      "source": [
        "Up until this point, we have been using what are called 'built-in' functions that come with python. Although you can do a lot with those functions, the beautiful thing about python is that you can add all kinds of functionality by adding in `packages`. Below, we will install an essential packages, Numpy and Matplotlib. Numpy makes it easy for us to work with data by keeping everything in arrays that we can do perform calculations with. Matplotlib is our best friend when it comes to making graphs or plots because it allows us to draw the figure, plot the data, style the plots, and save the plots as images."
      ]
    },
    {
      "cell_type": "code",
      "execution_count": null,
      "id": "22780bec-357d-4114-8dc3-2b0005d87862",
      "metadata": {
        "id": "22780bec-357d-4114-8dc3-2b0005d87862",
        "outputId": "3a365312-5bed-44c4-89da-122ea43f17a6",
        "colab": {
          "base_uri": "https://localhost:8080/"
        }
      },
      "outputs": [
        {
          "output_type": "stream",
          "name": "stdout",
          "text": [
            "Requirement already satisfied: numpy in /usr/local/lib/python3.10/dist-packages (1.26.4)\n",
            "Requirement already satisfied: matplotlib in /usr/local/lib/python3.10/dist-packages (3.8.0)\n",
            "Requirement already satisfied: contourpy>=1.0.1 in /usr/local/lib/python3.10/dist-packages (from matplotlib) (1.3.1)\n",
            "Requirement already satisfied: cycler>=0.10 in /usr/local/lib/python3.10/dist-packages (from matplotlib) (0.12.1)\n",
            "Requirement already satisfied: fonttools>=4.22.0 in /usr/local/lib/python3.10/dist-packages (from matplotlib) (4.55.3)\n",
            "Requirement already satisfied: kiwisolver>=1.0.1 in /usr/local/lib/python3.10/dist-packages (from matplotlib) (1.4.7)\n",
            "Requirement already satisfied: numpy<2,>=1.21 in /usr/local/lib/python3.10/dist-packages (from matplotlib) (1.26.4)\n",
            "Requirement already satisfied: packaging>=20.0 in /usr/local/lib/python3.10/dist-packages (from matplotlib) (24.2)\n",
            "Requirement already satisfied: pillow>=6.2.0 in /usr/local/lib/python3.10/dist-packages (from matplotlib) (11.0.0)\n",
            "Requirement already satisfied: pyparsing>=2.3.1 in /usr/local/lib/python3.10/dist-packages (from matplotlib) (3.2.0)\n",
            "Requirement already satisfied: python-dateutil>=2.7 in /usr/local/lib/python3.10/dist-packages (from matplotlib) (2.8.2)\n",
            "Requirement already satisfied: six>=1.5 in /usr/local/lib/python3.10/dist-packages (from python-dateutil>=2.7->matplotlib) (1.17.0)\n"
          ]
        }
      ],
      "source": [
        "# In this cell we install the numpy and matplotlib packages into our python environment.\n",
        "# You only need to run this cell once.\n",
        "\n",
        "import sys      # this sys package allows you to access command-line arguments passed to the Python script.\n",
        "!pip install numpy\n",
        "!pip install matplotlib"
      ]
    },
    {
      "cell_type": "markdown",
      "id": "a70e5376-316d-4158-9abb-58591c807996",
      "metadata": {
        "id": "a70e5376-316d-4158-9abb-58591c807996"
      },
      "source": [
        "We need to tell python that we want to use these new packages. We do that by `import`-ing the packages. To make our lives easier we can give the packages nicknames."
      ]
    },
    {
      "cell_type": "code",
      "execution_count": null,
      "id": "e1f2ae23-c795-43a8-85e9-501ae217e5b0",
      "metadata": {
        "id": "e1f2ae23-c795-43a8-85e9-501ae217e5b0"
      },
      "outputs": [],
      "source": [
        "import numpy as np"
      ]
    },
    {
      "cell_type": "markdown",
      "id": "f18cb02d-aaa5-46f2-92fd-235fb45a4d35",
      "metadata": {
        "id": "f18cb02d-aaa5-46f2-92fd-235fb45a4d35"
      },
      "source": [
        "Now let's see how we can use the functions inside of the package."
      ]
    },
    {
      "cell_type": "code",
      "execution_count": null,
      "id": "d9cc296d-3d51-47f2-b5ec-d3d8c837115f",
      "metadata": {
        "id": "d9cc296d-3d51-47f2-b5ec-d3d8c837115f",
        "outputId": "ccc7c509-b9bb-4aea-d45a-365796696b36"
      },
      "outputs": [
        {
          "name": "stdout",
          "output_type": "stream",
          "text": [
            "[1 2 3 4 5]\n",
            "3.0\n"
          ]
        }
      ],
      "source": [
        "fish = np.array((1,2,3,4,5))\n",
        "print(fish)\n",
        "print(np.mean(fish))"
      ]
    },
    {
      "cell_type": "markdown",
      "id": "d841efa2-5fb4-4609-a07a-8105935eccea",
      "metadata": {
        "id": "d841efa2-5fb4-4609-a07a-8105935eccea"
      },
      "source": [
        "We start by writing our nickname for the package, `np`, and then we use the `.` to say \"look inside that package\" and then we write the name of the function. All packages operate using this syntax.\n",
        "The expression `np.array((1,2,3,4,5))` has the form `package.function(input)`. The input to `np.array` tells the function what elements need to be in the array.  \n",
        "A good way to figure out what kind of things you can do with a package and what inputs a function needs is by googling the package/function and checking out the documentation. For example, for numpy: https://numpy.org/doc/stable/reference/generated/numpy.arange.html?highlight=arange#numpy.arange"
      ]
    },
    {
      "cell_type": "code",
      "execution_count": null,
      "id": "56c9c74e-178a-4301-b64d-6267c49efff6",
      "metadata": {
        "collapsed": true,
        "jupyter": {
          "outputs_hidden": true
        },
        "tags": [],
        "id": "56c9c74e-178a-4301-b64d-6267c49efff6",
        "outputId": "3c4408d7-2d87-44d3-dbd7-113829eb6ca3"
      },
      "outputs": [
        {
          "data": {
            "text/plain": [
              "\u001b[0;31mSignature:\u001b[0m      \n",
              "\u001b[0mnp\u001b[0m\u001b[0;34m.\u001b[0m\u001b[0mmean\u001b[0m\u001b[0;34m(\u001b[0m\u001b[0;34m\u001b[0m\n",
              "\u001b[0;34m\u001b[0m    \u001b[0ma\u001b[0m\u001b[0;34m,\u001b[0m\u001b[0;34m\u001b[0m\n",
              "\u001b[0;34m\u001b[0m    \u001b[0maxis\u001b[0m\u001b[0;34m=\u001b[0m\u001b[0;32mNone\u001b[0m\u001b[0;34m,\u001b[0m\u001b[0;34m\u001b[0m\n",
              "\u001b[0;34m\u001b[0m    \u001b[0mdtype\u001b[0m\u001b[0;34m=\u001b[0m\u001b[0;32mNone\u001b[0m\u001b[0;34m,\u001b[0m\u001b[0;34m\u001b[0m\n",
              "\u001b[0;34m\u001b[0m    \u001b[0mout\u001b[0m\u001b[0;34m=\u001b[0m\u001b[0;32mNone\u001b[0m\u001b[0;34m,\u001b[0m\u001b[0;34m\u001b[0m\n",
              "\u001b[0;34m\u001b[0m    \u001b[0mkeepdims\u001b[0m\u001b[0;34m=\u001b[0m\u001b[0;34m<\u001b[0m\u001b[0mno\u001b[0m \u001b[0mvalue\u001b[0m\u001b[0;34m>\u001b[0m\u001b[0;34m,\u001b[0m\u001b[0;34m\u001b[0m\n",
              "\u001b[0;34m\u001b[0m    \u001b[0;34m*\u001b[0m\u001b[0;34m,\u001b[0m\u001b[0;34m\u001b[0m\n",
              "\u001b[0;34m\u001b[0m    \u001b[0mwhere\u001b[0m\u001b[0;34m=\u001b[0m\u001b[0;34m<\u001b[0m\u001b[0mno\u001b[0m \u001b[0mvalue\u001b[0m\u001b[0;34m>\u001b[0m\u001b[0;34m,\u001b[0m\u001b[0;34m\u001b[0m\n",
              "\u001b[0;34m\u001b[0m\u001b[0;34m)\u001b[0m\u001b[0;34m\u001b[0m\u001b[0;34m\u001b[0m\u001b[0m\n",
              "\u001b[0;31mCall signature:\u001b[0m  \u001b[0mnp\u001b[0m\u001b[0;34m.\u001b[0m\u001b[0mmean\u001b[0m\u001b[0;34m(\u001b[0m\u001b[0;34m*\u001b[0m\u001b[0margs\u001b[0m\u001b[0;34m,\u001b[0m \u001b[0;34m**\u001b[0m\u001b[0mkwargs\u001b[0m\u001b[0;34m)\u001b[0m\u001b[0;34m\u001b[0m\u001b[0;34m\u001b[0m\u001b[0m\n",
              "\u001b[0;31mType:\u001b[0m            _ArrayFunctionDispatcher\n",
              "\u001b[0;31mString form:\u001b[0m     <function mean at 0x7fdc60072040>\n",
              "\u001b[0;31mFile:\u001b[0m            ~/opt/anaconda3/lib/python3.9/site-packages/numpy/core/fromnumeric.py\n",
              "\u001b[0;31mDocstring:\u001b[0m      \n",
              "Compute the arithmetic mean along the specified axis.\n",
              "\n",
              "Returns the average of the array elements.  The average is taken over\n",
              "the flattened array by default, otherwise over the specified axis.\n",
              "`float64` intermediate and return values are used for integer inputs.\n",
              "\n",
              "Parameters\n",
              "----------\n",
              "a : array_like\n",
              "    Array containing numbers whose mean is desired. If `a` is not an\n",
              "    array, a conversion is attempted.\n",
              "axis : None or int or tuple of ints, optional\n",
              "    Axis or axes along which the means are computed. The default is to\n",
              "    compute the mean of the flattened array.\n",
              "\n",
              "    .. versionadded:: 1.7.0\n",
              "\n",
              "    If this is a tuple of ints, a mean is performed over multiple axes,\n",
              "    instead of a single axis or all the axes as before.\n",
              "dtype : data-type, optional\n",
              "    Type to use in computing the mean.  For integer inputs, the default\n",
              "    is `float64`; for floating point inputs, it is the same as the\n",
              "    input dtype.\n",
              "out : ndarray, optional\n",
              "    Alternate output array in which to place the result.  The default\n",
              "    is ``None``; if provided, it must have the same shape as the\n",
              "    expected output, but the type will be cast if necessary.\n",
              "    See :ref:`ufuncs-output-type` for more details.\n",
              "\n",
              "keepdims : bool, optional\n",
              "    If this is set to True, the axes which are reduced are left\n",
              "    in the result as dimensions with size one. With this option,\n",
              "    the result will broadcast correctly against the input array.\n",
              "\n",
              "    If the default value is passed, then `keepdims` will not be\n",
              "    passed through to the `mean` method of sub-classes of\n",
              "    `ndarray`, however any non-default value will be.  If the\n",
              "    sub-class' method does not implement `keepdims` any\n",
              "    exceptions will be raised.\n",
              "\n",
              "where : array_like of bool, optional\n",
              "    Elements to include in the mean. See `~numpy.ufunc.reduce` for details.\n",
              "\n",
              "    .. versionadded:: 1.20.0\n",
              "\n",
              "Returns\n",
              "-------\n",
              "m : ndarray, see dtype parameter above\n",
              "    If `out=None`, returns a new array containing the mean values,\n",
              "    otherwise a reference to the output array is returned.\n",
              "\n",
              "See Also\n",
              "--------\n",
              "average : Weighted average\n",
              "std, var, nanmean, nanstd, nanvar\n",
              "\n",
              "Notes\n",
              "-----\n",
              "The arithmetic mean is the sum of the elements along the axis divided\n",
              "by the number of elements.\n",
              "\n",
              "Note that for floating-point input, the mean is computed using the\n",
              "same precision the input has.  Depending on the input data, this can\n",
              "cause the results to be inaccurate, especially for `float32` (see\n",
              "example below).  Specifying a higher-precision accumulator using the\n",
              "`dtype` keyword can alleviate this issue.\n",
              "\n",
              "By default, `float16` results are computed using `float32` intermediates\n",
              "for extra precision.\n",
              "\n",
              "Examples\n",
              "--------\n",
              ">>> a = np.array([[1, 2], [3, 4]])\n",
              ">>> np.mean(a)\n",
              "2.5\n",
              ">>> np.mean(a, axis=0)\n",
              "array([2., 3.])\n",
              ">>> np.mean(a, axis=1)\n",
              "array([1.5, 3.5])\n",
              "\n",
              "In single precision, `mean` can be inaccurate:\n",
              "\n",
              ">>> a = np.zeros((2, 512*512), dtype=np.float32)\n",
              ">>> a[0, :] = 1.0\n",
              ">>> a[1, :] = 0.1\n",
              ">>> np.mean(a)\n",
              "0.54999924\n",
              "\n",
              "Computing the mean in float64 is more accurate:\n",
              "\n",
              ">>> np.mean(a, dtype=np.float64)\n",
              "0.55000000074505806 # may vary\n",
              "\n",
              "Specifying a where argument:\n",
              "\n",
              ">>> a = np.array([[5, 9, 13], [14, 10, 12], [11, 15, 19]])\n",
              ">>> np.mean(a)\n",
              "12.0\n",
              ">>> np.mean(a, where=[[True], [False], [False]])\n",
              "9.0\n",
              "\u001b[0;31mClass docstring:\u001b[0m\n",
              "Class to wrap functions with checks for __array_function__ overrides.\n",
              "\n",
              "All arguments are required, and can only be passed by position.\n",
              "\n",
              "Parameters\n",
              "----------\n",
              "dispatcher : function or None\n",
              "    The dispatcher function that returns a single sequence-like object\n",
              "    of all arguments relevant.  It must have the same signature (except\n",
              "    the default values) as the actual implementation.\n",
              "    If ``None``, this is a ``like=`` dispatcher and the\n",
              "    ``_ArrayFunctionDispatcher`` must be called with ``like`` as the\n",
              "    first (additional and positional) argument.\n",
              "implementation : function\n",
              "    Function that implements the operation on NumPy arrays without\n",
              "    overrides.  Arguments passed calling the ``_ArrayFunctionDispatcher``\n",
              "    will be forwarded to this (and the ``dispatcher``) as if using\n",
              "    ``*args, **kwargs``.\n",
              "\n",
              "Attributes\n",
              "----------\n",
              "_implementation : function\n",
              "    The original implementation passed in."
            ]
          },
          "metadata": {},
          "output_type": "display_data"
        }
      ],
      "source": [
        "# Or if you want to check how a function works in a notebook, you can use a '?'\n",
        "# You have to give the function all the inputs that DO NOT have equal signs after them\n",
        "?np.mean"
      ]
    },
    {
      "cell_type": "markdown",
      "id": "8b0997df-45f1-4975-8474-931c9ea28414",
      "metadata": {
        "id": "8b0997df-45f1-4975-8474-931c9ea28414"
      },
      "source": [
        "We can use numpy to load in and perform calculations on data."
      ]
    },
    {
      "cell_type": "code",
      "execution_count": null,
      "id": "5e5c637e-1cc1-40ee-bea8-24982f41b505",
      "metadata": {
        "id": "5e5c637e-1cc1-40ee-bea8-24982f41b505",
        "outputId": "5ed06bf9-5004-4ec6-c300-7b6cc08672d1"
      },
      "outputs": [
        {
          "data": {
            "text/plain": [
              "array([[0., 0., 1., ..., 3., 0., 0.],\n",
              "       [0., 1., 2., ..., 1., 0., 1.],\n",
              "       [0., 1., 1., ..., 2., 1., 1.],\n",
              "       ...,\n",
              "       [0., 1., 1., ..., 1., 1., 1.],\n",
              "       [0., 0., 0., ..., 0., 2., 0.],\n",
              "       [0., 0., 1., ..., 1., 1., 0.]])"
            ]
          },
          "execution_count": 25,
          "metadata": {},
          "output_type": "execute_result"
        }
      ],
      "source": [
        "np.loadtxt('inflammation-01.csv', delimiter=',')"
      ]
    },
    {
      "cell_type": "code",
      "execution_count": null,
      "id": "b4bf6c05-e8a2-40f3-b708-e4b37482eaeb",
      "metadata": {
        "id": "b4bf6c05-e8a2-40f3-b708-e4b37482eaeb",
        "outputId": "3ccbf122-37e0-489d-f944-dd5ae8dfcd0c"
      },
      "outputs": [
        {
          "data": {
            "text/plain": [
              "array([[0., 0., 1., ..., 3., 0., 0.],\n",
              "       [0., 1., 2., ..., 1., 0., 1.],\n",
              "       [0., 1., 1., ..., 2., 1., 1.],\n",
              "       ...,\n",
              "       [0., 1., 1., ..., 1., 1., 1.],\n",
              "       [0., 0., 0., ..., 0., 2., 0.],\n",
              "       [0., 0., 1., ..., 1., 1., 0.]])"
            ]
          },
          "execution_count": 26,
          "metadata": {},
          "output_type": "execute_result"
        }
      ],
      "source": [
        "np.genfromtxt('inflammation-01.csv', delimiter=',')"
      ]
    },
    {
      "cell_type": "markdown",
      "id": "35f3658f-589a-465b-b751-9e53a567f5c7",
      "metadata": {
        "id": "35f3658f-589a-465b-b751-9e53a567f5c7"
      },
      "source": [
        "The cell above loaded in data from a file. `numpy.loadtxt()` has two 'inputs': the name of the file we want to read and the delimiter that separates values on a line. These both need to be character strings (or strings for short), so we put them in quotes.\n",
        "\n",
        "In this data set, each row of this data represents a patient, and the columns are the patients inflammation readings on subsequent days. Take a look and lets make sure we get the basic picture of the data.\n",
        "\n",
        "Our call to `numpy.loadtxt` read our file but didn’t save the data in memory. To do that, we need to assign the array to a variable. Just as we can assign a single value to a variable, we can also assign an array of values to a variable using the same syntax. Let’s re-run `numpy.loadtxt` and save the returned data:"
      ]
    },
    {
      "cell_type": "code",
      "execution_count": null,
      "id": "b18604d6-a73d-41a0-bba6-45f22ec1d011",
      "metadata": {
        "id": "b18604d6-a73d-41a0-bba6-45f22ec1d011"
      },
      "outputs": [],
      "source": [
        "data = np.loadtxt('inflammation-01.csv', delimiter=',')"
      ]
    },
    {
      "cell_type": "markdown",
      "id": "7791d5de-e9cc-463a-900c-a35e1fcc0d38",
      "metadata": {
        "id": "7791d5de-e9cc-463a-900c-a35e1fcc0d38"
      },
      "source": [
        "There is no output but we have assigned the information in the file to data. We can check by printing out `data` and by checking its `type`"
      ]
    },
    {
      "cell_type": "code",
      "execution_count": null,
      "id": "21fce9a9-f1f0-4d21-bfa7-86f67347e1fe",
      "metadata": {
        "id": "21fce9a9-f1f0-4d21-bfa7-86f67347e1fe",
        "outputId": "45e6a1de-f097-4d42-c13c-36471e66b366"
      },
      "outputs": [
        {
          "name": "stdout",
          "output_type": "stream",
          "text": [
            "[[0. 0. 1. ... 3. 0. 0.]\n",
            " [0. 1. 2. ... 1. 0. 1.]\n",
            " [0. 1. 1. ... 2. 1. 1.]\n",
            " ...\n",
            " [0. 1. 1. ... 1. 1. 1.]\n",
            " [0. 0. 0. ... 0. 2. 0.]\n",
            " [0. 0. 1. ... 1. 1. 0.]]\n"
          ]
        }
      ],
      "source": [
        "print(data)"
      ]
    },
    {
      "cell_type": "markdown",
      "id": "028f83bc-b482-4931-a3b8-d447605a1067",
      "metadata": {
        "id": "028f83bc-b482-4931-a3b8-d447605a1067"
      },
      "source": [
        "Awesome! It worked! Before, when we made `fish` there was only one set of brackets around the information but now there are two sets. That is because `data` is a two dimensional dataset where the rows are different patitents and the columns are different days. We can check the shape of the data using a function inside the `data` variable"
      ]
    },
    {
      "cell_type": "code",
      "execution_count": null,
      "id": "fcdcff28-80a5-43ad-9675-477b13b86131",
      "metadata": {
        "id": "fcdcff28-80a5-43ad-9675-477b13b86131",
        "outputId": "9acdd2fc-9781-4afa-efa3-410ed7e793c3"
      },
      "outputs": [
        {
          "name": "stdout",
          "output_type": "stream",
          "text": [
            "(60, 40)\n",
            "(5,)\n"
          ]
        }
      ],
      "source": [
        "print(data.shape)\n",
        "print(fish.shape)"
      ]
    },
    {
      "cell_type": "markdown",
      "id": "22fc0b9b-ac7c-45bf-8ae2-2e89514f38ba",
      "metadata": {
        "id": "22fc0b9b-ac7c-45bf-8ae2-2e89514f38ba"
      },
      "source": [
        "The output tells us that the `data` array variable contains 60 rows and 40 columns and that `fish` is a one dimensional array of length 5.\n",
        "\n",
        "We know that the rows are individual patients and the columns are days so this tells us that there are 60 patients that were monitored for 40 days."
      ]
    },
    {
      "cell_type": "markdown",
      "id": "5d0cd531-b054-4734-9273-a8a56bf3f90a",
      "metadata": {
        "id": "5d0cd531-b054-4734-9273-a8a56bf3f90a"
      },
      "source": [
        "### Break"
      ]
    },
    {
      "cell_type": "markdown",
      "id": "31c5e631-0a0d-4db0-be50-8a579237069a",
      "metadata": {
        "id": "31c5e631-0a0d-4db0-be50-8a579237069a"
      },
      "source": [
        "# Accessing a part of the data  \n",
        "\n",
        "If we want to pull out a subset of the data, we need to use indexing.  \n",
        "\n",
        "Each value in the array has a unique index based on its position in the array. In a 2D array like `data` the first index represents the row number and the second represents the column number.\n",
        "\n",
        "Python counts from 0 so the index of the top left corner of `data` is [0,0]."
      ]
    },
    {
      "cell_type": "code",
      "execution_count": null,
      "id": "79b6fd2c-3505-4ff1-9a16-b0f89312f14a",
      "metadata": {
        "id": "79b6fd2c-3505-4ff1-9a16-b0f89312f14a",
        "outputId": "3b8daea7-ee6f-4a3b-d0eb-f077de14f40a"
      },
      "outputs": [
        {
          "name": "stdout",
          "output_type": "stream",
          "text": [
            "first value in data:  0.0\n"
          ]
        }
      ],
      "source": [
        "# get a single value, the first one\n",
        "\n",
        "print('first value in data: ', data[0, 0])"
      ]
    },
    {
      "cell_type": "code",
      "execution_count": null,
      "id": "8c91b4b5-aa7b-421c-9bb3-afed5a45e26e",
      "metadata": {
        "id": "8c91b4b5-aa7b-421c-9bb3-afed5a45e26e",
        "outputId": "2199345d-33b4-4cb9-c1dc-9cfe7fc9cb5a"
      },
      "outputs": [
        {
          "name": "stdout",
          "output_type": "stream",
          "text": [
            "middle value in data: 13.0\n"
          ]
        }
      ],
      "source": [
        "# get a single value in the middle of the array\n",
        "\n",
        "print('middle value in data:', data[30, 20])"
      ]
    },
    {
      "cell_type": "markdown",
      "id": "2c97c1ae-91fd-4a55-abbe-5532eab54f43",
      "metadata": {
        "id": "2c97c1ae-91fd-4a55-abbe-5532eab54f43"
      },
      "source": [
        "Cool so we can pull out individual values but what if we want to look at data from only a few patients over only a few days? We can slice our array using indexing!"
      ]
    },
    {
      "cell_type": "code",
      "execution_count": null,
      "id": "70cdce8d-2d39-4e1b-b9f6-931536bf5199",
      "metadata": {
        "id": "70cdce8d-2d39-4e1b-b9f6-931536bf5199",
        "outputId": "cf9639ec-1256-463e-906f-eab1f5549666"
      },
      "outputs": [
        {
          "data": {
            "text/plain": [
              "array([[0., 0., 1., 3., 1., 2., 4., 7., 8., 3.],\n",
              "       [0., 1., 2., 1., 2., 1., 3., 2., 2., 6.],\n",
              "       [0., 1., 1., 3., 3., 2., 6., 2., 5., 9.],\n",
              "       [0., 0., 2., 0., 4., 2., 2., 1., 6., 7.]])"
            ]
          },
          "execution_count": 41,
          "metadata": {},
          "output_type": "execute_result"
        }
      ],
      "source": [
        "# get the first 4 rows and the first 10 columns\n",
        "data[0:4, 0:10]"
      ]
    },
    {
      "cell_type": "markdown",
      "id": "14718680-0ca8-4c69-8337-aecc2ff043ec",
      "metadata": {
        "id": "14718680-0ca8-4c69-8337-aecc2ff043ec"
      },
      "source": [
        "The subset of `data` above shows the first 4 patients data over the first 10 days."
      ]
    },
    {
      "cell_type": "code",
      "execution_count": null,
      "id": "649b6990-024f-4004-9d5a-9ca6969c9217",
      "metadata": {
        "id": "649b6990-024f-4004-9d5a-9ca6969c9217",
        "outputId": "e319185f-d405-432c-f39f-dc42c3c77e7d"
      },
      "outputs": [
        {
          "data": {
            "text/plain": [
              "array([[ 0.,  0.,  1.,  3.,  1.,  2.,  4.,  7.,  8.,  3.,  3.,  3., 10.,\n",
              "         5.,  7.,  4.,  7.,  7., 12., 18.,  6., 13., 11., 11.,  7.,  7.,\n",
              "         4.,  6.,  8.,  8.,  4.,  4.,  5.,  7.,  3.,  4.,  2.,  3.,  0.,\n",
              "         0.],\n",
              "       [ 0.,  1.,  2.,  1.,  2.,  1.,  3.,  2.,  2.,  6., 10., 11.,  5.,\n",
              "         9.,  4.,  4.,  7., 16.,  8.,  6., 18.,  4., 12.,  5., 12.,  7.,\n",
              "        11.,  5., 11.,  3.,  3.,  5.,  4.,  4.,  5.,  5.,  1.,  1.,  0.,\n",
              "         1.],\n",
              "       [ 0.,  1.,  1.,  3.,  3.,  2.,  6.,  2.,  5.,  9.,  5.,  7.,  4.,\n",
              "         5.,  4., 15.,  5., 11.,  9., 10., 19., 14., 12., 17.,  7., 12.,\n",
              "        11.,  7.,  4.,  2., 10.,  5.,  4.,  2.,  2.,  3.,  2.,  2.,  1.,\n",
              "         1.],\n",
              "       [ 0.,  0.,  2.,  0.,  4.,  2.,  2.,  1.,  6.,  7., 10.,  7.,  9.,\n",
              "        13.,  8.,  8., 15., 10., 10.,  7., 17.,  4.,  4.,  7.,  6., 15.,\n",
              "         6.,  4.,  9., 11.,  3.,  5.,  6.,  3.,  3.,  4.,  2.,  3.,  2.,\n",
              "         1.]])"
            ]
          },
          "execution_count": 39,
          "metadata": {},
          "output_type": "execute_result"
        }
      ],
      "source": [
        "# If we want to grab all of the columns but only some rows,\n",
        "data[0:4, :]"
      ]
    },
    {
      "cell_type": "code",
      "execution_count": null,
      "id": "782e64ca-0674-4772-8fe2-7d6f2d21f76a",
      "metadata": {
        "id": "782e64ca-0674-4772-8fe2-7d6f2d21f76a",
        "outputId": "d44bf261-4798-47ab-e27d-0c378966e758"
      },
      "outputs": [
        {
          "data": {
            "text/plain": [
              "0.0"
            ]
          },
          "execution_count": 40,
          "metadata": {},
          "output_type": "execute_result"
        }
      ],
      "source": [
        "# Or, if you want to grab the value in the last row and the last column\n",
        "data[-1,-1]"
      ]
    },
    {
      "cell_type": "markdown",
      "id": "a5ef41e2-7fa6-46a8-bc20-5e6cc448fb16",
      "metadata": {
        "id": "a5ef41e2-7fa6-46a8-bc20-5e6cc448fb16"
      },
      "source": [
        "`-1` will always grab the last value on that dimension"
      ]
    },
    {
      "cell_type": "markdown",
      "id": "6c10f946-a7bb-495a-9e00-2fc3c1bc1627",
      "metadata": {
        "id": "6c10f946-a7bb-495a-9e00-2fc3c1bc1627"
      },
      "source": [
        "Let's grab all of the days for the first patient and we can play with this data."
      ]
    },
    {
      "cell_type": "code",
      "execution_count": null,
      "id": "a9a86d79-eb14-4aeb-af9a-b0a8c26d81ef",
      "metadata": {
        "id": "a9a86d79-eb14-4aeb-af9a-b0a8c26d81ef",
        "outputId": "2504e881-9dc1-45a5-da85-1594a88e43d0"
      },
      "outputs": [
        {
          "name": "stdout",
          "output_type": "stream",
          "text": [
            "[ 0.  0.  1.  3.  1.  2.  4.  7.  8.  3.  3.  3. 10.  5.  7.  4.  7.  7.\n",
            " 12. 18.  6. 13. 11. 11.  7.  7.  4.  6.  8.  8.  4.  4.  5.  7.  3.  4.\n",
            "  2.  3.  0.  0.]\n"
          ]
        }
      ],
      "source": [
        "patient0 = data[0,:]\n",
        "print(patient0)"
      ]
    },
    {
      "cell_type": "markdown",
      "id": "5f086dca-9547-4111-ad50-f28a64c759db",
      "metadata": {
        "id": "5f086dca-9547-4111-ad50-f28a64c759db"
      },
      "source": [
        "We can apply math to these arrays because numpy let's us treat them simply as numbers!"
      ]
    },
    {
      "cell_type": "code",
      "execution_count": null,
      "id": "68c5f77a-5355-4e5e-b869-24d34484d784",
      "metadata": {
        "id": "68c5f77a-5355-4e5e-b869-24d34484d784",
        "outputId": "7b106d8c-b42e-4fc4-d2a2-db37e9193a6a"
      },
      "outputs": [
        {
          "name": "stdout",
          "output_type": "stream",
          "text": [
            "1.0\n",
            "2.0\n"
          ]
        }
      ],
      "source": [
        "doublepatient0 = patient0*2\n",
        "\n",
        "print(patient0[2])\n",
        "print(doublepatient0[2])"
      ]
    },
    {
      "cell_type": "markdown",
      "id": "6f2a8a2a-5e56-4dd8-ae83-0ec92da62131",
      "metadata": {
        "id": "6f2a8a2a-5e56-4dd8-ae83-0ec92da62131"
      },
      "source": [
        "Finally, we can use these principles of indexing and slicing to operate on data."
      ]
    },
    {
      "cell_type": "code",
      "execution_count": null,
      "id": "c58a7f37-872f-42d3-93c1-bad0e1f14f92",
      "metadata": {
        "id": "c58a7f37-872f-42d3-93c1-bad0e1f14f92",
        "outputId": "2eeb752a-007e-4bac-8a8b-4535b3f47376"
      },
      "outputs": [
        {
          "name": "stdout",
          "output_type": "stream",
          "text": [
            "Mean of all data:  6.14875\n",
            "Mean of all patients on one day:  5.95\n",
            "Mean of one patient across all days:  6.225\n"
          ]
        }
      ],
      "source": [
        "# We can take the mean of all of the data\n",
        "print('Mean of all data: ', np.mean(data))\n",
        "\n",
        "# We can take the mean of all of the data on a certain day (days are the columns so that is our second axis)\n",
        "print('Mean of all patients on one day: ', np.mean(data[:,10]))\n",
        "\n",
        "# We can take the mean of all of the data for one patient (patients are the rows so that is our first axis)\n",
        "print('Mean of one patient across all days: ', np.mean(data[5,:]))"
      ]
    },
    {
      "cell_type": "markdown",
      "id": "400a7145-121d-4ffa-b5fb-2be1a65895dc",
      "metadata": {
        "tags": [],
        "id": "400a7145-121d-4ffa-b5fb-2be1a65895dc"
      },
      "source": [
        "# Plotting"
      ]
    },
    {
      "cell_type": "markdown",
      "id": "a9f39bb8-3fc2-41ca-8a1c-c6a4248d13cb",
      "metadata": {
        "id": "a9f39bb8-3fc2-41ca-8a1c-c6a4248d13cb"
      },
      "source": [
        "Now let's plot this data using the `matplotlib` package. The main functions we will be using are in the `pyplot` subset of `matplotlib` so we can import just that subset."
      ]
    },
    {
      "cell_type": "code",
      "execution_count": null,
      "id": "c7393cf1-13ca-4ce7-9ef9-a12bc947360f",
      "metadata": {
        "id": "c7393cf1-13ca-4ce7-9ef9-a12bc947360f"
      },
      "outputs": [],
      "source": [
        "import matplotlib.pyplot as plt"
      ]
    },
    {
      "cell_type": "code",
      "execution_count": null,
      "id": "34c97b58-8416-4121-bf7a-10ebe470c68a",
      "metadata": {
        "id": "34c97b58-8416-4121-bf7a-10ebe470c68a",
        "outputId": "12b792e5-72c3-4874-a61e-e8a942a9058c"
      },
      "outputs": [
        {
          "name": "stdout",
          "output_type": "stream",
          "text": [
            "Shape of patient0:  (40,)\n",
            "[ 0  1  2  3  4  5  6  7  8  9 10 11 12 13 14 15 16 17 18 19 20 21 22 23\n",
            " 24 25 26 27 28 29 30 31 32 33 34 35 36 37 38 39]\n",
            "Shape of days:  (40,)\n"
          ]
        }
      ],
      "source": [
        "# Before we plot, we need to make data for our x axis because the inflammation data will be our y axis data\n",
        "# The x data needs to be the same shape as the y data for the plotting to work\n",
        "\n",
        "# np.arange() is a great function that creates an nd-array of sequential numbers between the first and second input\n",
        "# np.shape() tells us the dimensions of any array we give it.\n",
        "print('Shape of patient0: ', patient0.shape)\n",
        "\n",
        "days = np.arange(0,patient0.shape[0])\n",
        "\n",
        "print(days)\n",
        "\n",
        "print('Shape of days: ', np.shape(days))"
      ]
    },
    {
      "cell_type": "markdown",
      "id": "5c8a76d7-1755-4e5a-a31c-3b0a014e4581",
      "metadata": {
        "id": "5c8a76d7-1755-4e5a-a31c-3b0a014e4581"
      },
      "source": [
        "Now we have x and y data arrays that are the same shape so we are ready to proceed to plotting"
      ]
    },
    {
      "cell_type": "markdown",
      "id": "4e1e2d05-353b-4b60-a1b7-d6e947fc907f",
      "metadata": {
        "id": "4e1e2d05-353b-4b60-a1b7-d6e947fc907f"
      },
      "source": [
        "To make a simple line plot in with matplotlib.pyplt, all you have to do is use the `plot` command and give inputs of the data points to plot\n",
        "\n"
      ]
    },
    {
      "cell_type": "code",
      "execution_count": null,
      "id": "e24e094e-9669-4195-9ff1-d473bbbf2c05",
      "metadata": {
        "id": "e24e094e-9669-4195-9ff1-d473bbbf2c05",
        "outputId": "f267b72e-f54c-4ef5-9816-972fa3fb63ad"
      },
      "outputs": [
        {
          "data": {
            "text/plain": [
              "[<matplotlib.lines.Line2D at 0x7fdc6067f8e0>]"
            ]
          },
          "execution_count": 47,
          "metadata": {},
          "output_type": "execute_result"
        },
        {
          "data": {
            "image/png": "[encoded data removed]",
            "text/plain": [
              "<Figure size 640x480 with 1 Axes>"
            ]
          },
          "metadata": {},
          "output_type": "display_data"
        }
      ],
      "source": [
        "plt.plot(days,patient0)"
      ]
    },
    {
      "cell_type": "markdown",
      "id": "ce0545ff-35d6-4af4-8a38-97b48140723a",
      "metadata": {
        "id": "ce0545ff-35d6-4af4-8a38-97b48140723a"
      },
      "source": [
        "Woohoo! We put a line in a box! But we are missing some core elements of a plot. Every good plot has labels."
      ]
    },
    {
      "cell_type": "code",
      "execution_count": null,
      "id": "77d8ad10-e8ba-42bd-96fb-31d1b3956202",
      "metadata": {
        "id": "77d8ad10-e8ba-42bd-96fb-31d1b3956202",
        "outputId": "33f174f5-6a2b-4b3a-936e-de4a21825c01"
      },
      "outputs": [
        {
          "data": {
            "text/plain": [
              "Text(0.5, 1.0, 'Patient 0 Inflammation')"
            ]
          },
          "execution_count": 48,
          "metadata": {},
          "output_type": "execute_result"
        },
        {
          "data": {
            "image/png": "[encoded data removed]",
            "text/plain": [
              "<Figure size 640x480 with 1 Axes>"
            ]
          },
          "metadata": {},
          "output_type": "display_data"
        }
      ],
      "source": [
        "plt.plot(days,patient0)\n",
        "plt.xlabel('Days since treatment')\n",
        "plt.ylabel('Inflammation [no units]')\n",
        "plt.title('Patient 0 Inflammation')"
      ]
    },
    {
      "cell_type": "markdown",
      "id": "af527e60-4399-4ab7-8c15-f87f21faf78b",
      "metadata": {
        "id": "af527e60-4399-4ab7-8c15-f87f21faf78b"
      },
      "source": [
        "_Side note_\n",
        "You can change the styling of the plot by giving the `plt.plot` command more inputs (called keyword arguments) like:  \n",
        "`lw=3` which can be used to set the line width.   \n",
        "`ls=':'` which can be used to change the line style, making it dotted in this case.   \n",
        "`c = 'green'` which changes the color of the line.   "
      ]
    },
    {
      "cell_type": "code",
      "execution_count": null,
      "id": "5ad9197c-526a-471c-b6e0-12a4b4dc288c",
      "metadata": {
        "id": "5ad9197c-526a-471c-b6e0-12a4b4dc288c",
        "outputId": "870edac1-6d51-4aef-e540-b6a70df798a2"
      },
      "outputs": [
        {
          "data": {
            "text/plain": [
              "Text(0.5, 1.0, 'Patient 0 Inflammation')"
            ]
          },
          "execution_count": 49,
          "metadata": {},
          "output_type": "execute_result"
        },
        {
          "data": {
            "image/png": "[encoded data removed]",
            "text/plain": [
              "<Figure size 640x480 with 1 Axes>"
            ]
          },
          "metadata": {},
          "output_type": "display_data"
        }
      ],
      "source": [
        "plt.plot(days,patient0, lw=3, ls=':', c='green')\n",
        "plt.xlabel('Days since treatment')\n",
        "plt.ylabel('Inflammation [no units]')\n",
        "plt.title('Patient 0 Inflammation')"
      ]
    },
    {
      "cell_type": "code",
      "execution_count": null,
      "id": "b45f6918-77e7-4d93-b40e-e12f2a55f07b",
      "metadata": {
        "id": "b45f6918-77e7-4d93-b40e-e12f2a55f07b",
        "outputId": "52087d91-3675-415f-ee4c-7d55b7941e8a"
      },
      "outputs": [
        {
          "data": {
            "text/plain": [
              "Text(0.5, 1.0, 'Patient 0 Inflammation')"
            ]
          },
          "execution_count": 50,
          "metadata": {},
          "output_type": "execute_result"
        },
        {
          "data": {
            "image/png": "[encoded data removed]",
            "text/plain": [
              "<Figure size 640x480 with 1 Axes>"
            ]
          },
          "metadata": {},
          "output_type": "display_data"
        }
      ],
      "source": [
        "# Another example: What not to do!\n",
        "plt.plot(days,patient0, lw=40, ls='-.', c='coral')\n",
        "plt.xlabel('Days since treatment')\n",
        "plt.ylabel('Inflammation [no units]')\n",
        "plt.title('Patient 0 Inflammation')"
      ]
    },
    {
      "cell_type": "markdown",
      "id": "19c2cabd-2e49-4d4c-be72-4bc03c480d9a",
      "metadata": {
        "id": "19c2cabd-2e49-4d4c-be72-4bc03c480d9a"
      },
      "source": [
        "Just don't go to crazy or you might not be able to read the figure well like the plot above this cell.  \n",
        "\n",
        "Matplotlib has a whole host of plotting types that you can mess around with if you have the right type of data to input. I will step through some examples briefly below."
      ]
    },
    {
      "cell_type": "markdown",
      "id": "adcd8ead-958f-4383-a420-01b4c75ad35e",
      "metadata": {
        "id": "adcd8ead-958f-4383-a420-01b4c75ad35e"
      },
      "source": [
        "### Scatter plots"
      ]
    },
    {
      "cell_type": "code",
      "execution_count": null,
      "id": "c52adb24-c355-4899-a20b-9ba9f9e59ddb",
      "metadata": {
        "id": "c52adb24-c355-4899-a20b-9ba9f9e59ddb",
        "outputId": "bfb4a75a-48d4-4bc0-98e0-a6b8b3592a01"
      },
      "outputs": [
        {
          "data": {
            "text/plain": [
              "Text(0.5, 1.0, 'Patient 0 Inflammation')"
            ]
          },
          "execution_count": 51,
          "metadata": {},
          "output_type": "execute_result"
        },
        {
          "data": {
            "image/png": "[encoded data removed]",
            "text/plain": [
              "<Figure size 640x480 with 1 Axes>"
            ]
          },
          "metadata": {},
          "output_type": "display_data"
        }
      ],
      "source": [
        "# Scatter plots. This takes inputs similar to plot but only plots the dots of each data point with no line connecting them\n",
        "plt.scatter(days, patient0, c='green')\n",
        "plt.xlabel('Days since treatment')\n",
        "plt.ylabel('Inflammation [no units]')\n",
        "plt.title('Patient 0 Inflammation')"
      ]
    },
    {
      "cell_type": "markdown",
      "id": "4d5d57c4-727f-48ec-b4c4-231a2a62cee7",
      "metadata": {
        "id": "4d5d57c4-727f-48ec-b4c4-231a2a62cee7"
      },
      "source": [
        "### Heat map"
      ]
    },
    {
      "cell_type": "markdown",
      "id": "35bc8f95-746c-4014-9821-f01e5cb1196d",
      "metadata": {
        "id": "35bc8f95-746c-4014-9821-f01e5cb1196d"
      },
      "source": [
        "Heat maps. These require 2D data   \n",
        "To make a heat map, we can use the full `data` variable  \n",
        "The inflammation data will appear as the color on the plot.  \n",
        "So we need to provide the x and y points associated with each color, like we did for the line plots  "
      ]
    },
    {
      "cell_type": "code",
      "execution_count": null,
      "id": "f5f61148-405d-4ccc-aeec-73292dafe29c",
      "metadata": {
        "id": "f5f61148-405d-4ccc-aeec-73292dafe29c",
        "outputId": "4138ce87-05a9-4ebe-9be2-6f8ea7014744"
      },
      "outputs": [
        {
          "name": "stdout",
          "output_type": "stream",
          "text": [
            "(60, 40)\n"
          ]
        }
      ],
      "source": [
        "# First check the shape of data to see how we are going to make our arrays\n",
        "print(data.shape)"
      ]
    },
    {
      "cell_type": "code",
      "execution_count": null,
      "id": "bf1d65f2-82e9-4333-b4cc-82c99f0b5f7e",
      "metadata": {
        "id": "bf1d65f2-82e9-4333-b4cc-82c99f0b5f7e",
        "outputId": "c15cd526-040c-4543-f052-bb50a5ece8d0"
      },
      "outputs": [
        {
          "name": "stdout",
          "output_type": "stream",
          "text": [
            "[ 0  1  2  3  4  5  6  7  8  9 10 11 12 13 14 15 16 17 18 19 20 21 22 23\n",
            " 24 25 26 27 28 29 30 31 32 33 34 35 36 37 38 39 40 41 42 43 44 45 46 47\n",
            " 48 49 50 51 52 53 54 55 56 57 58 59]\n",
            "[ 0  1  2  3  4  5  6  7  8  9 10 11 12 13 14 15 16 17 18 19 20 21 22 23\n",
            " 24 25 26 27 28 29 30 31 32 33 34 35 36 37 38 39]\n"
          ]
        }
      ],
      "source": [
        "# We can use np.arange again\n",
        "patients = np.arange(0,data.shape[0])\n",
        "days = np.arange(0,data.shape[1])\n",
        "\n",
        "print(patients)\n",
        "print(days)"
      ]
    },
    {
      "cell_type": "markdown",
      "id": "6166b2be-1e0b-45c5-a2ff-29ba51364a58",
      "metadata": {
        "id": "6166b2be-1e0b-45c5-a2ff-29ba51364a58"
      },
      "source": []
    },
    {
      "cell_type": "markdown",
      "id": "b96184d9-fa8d-4a0d-a245-753c7ad8e708",
      "metadata": {
        "id": "b96184d9-fa8d-4a0d-a245-753c7ad8e708"
      },
      "source": [
        "Now we can plot our heat map using `np.pcolor`"
      ]
    },
    {
      "cell_type": "code",
      "execution_count": null,
      "id": "3c33a526-513a-4a8f-b919-668b33e76ccb",
      "metadata": {
        "id": "3c33a526-513a-4a8f-b919-668b33e76ccb",
        "outputId": "11733395-4157-48d3-abb6-3703294a8002"
      },
      "outputs": [
        {
          "data": {
            "text/plain": [
              "Text(0.5, 1.0, 'Inflammation in patients days after treatment')"
            ]
          },
          "execution_count": 54,
          "metadata": {},
          "output_type": "execute_result"
        },
        {
          "data": {
            "image/png": "[encoded data removed]",
            "text/plain": [
              "<Figure size 640x480 with 1 Axes>"
            ]
          },
          "metadata": {},
          "output_type": "display_data"
        }
      ],
      "source": [
        "plt.pcolor(days, patients, data)\n",
        "plt.xlabel('Days since treatment')\n",
        "plt.ylabel('Patient #')\n",
        "plt.title('Inflammation in patients days after treatment')"
      ]
    },
    {
      "cell_type": "code",
      "execution_count": null,
      "id": "50dfe41a-a182-4b8a-88fe-d608e1d0cefa",
      "metadata": {
        "id": "50dfe41a-a182-4b8a-88fe-d608e1d0cefa",
        "outputId": "8da6166e-8b7c-4793-fc5b-b5a7c748ec2d"
      },
      "outputs": [
        {
          "data": {
            "text/plain": [
              "<matplotlib.colorbar.Colorbar at 0x7fdc60cdda90>"
            ]
          },
          "execution_count": 55,
          "metadata": {},
          "output_type": "execute_result"
        },
        {
          "data": {
            "image/png": "[encoded data removed]",
            "text/plain": [
              "<Figure size 640x480 with 2 Axes>"
            ]
          },
          "metadata": {},
          "output_type": "display_data"
        }
      ],
      "source": [
        "plt.pcolor(days, patients, data)\n",
        "plt.xlabel('Days since treatment')\n",
        "plt.ylabel('Patient #')\n",
        "plt.title('Inflammation in patients days after treatment')\n",
        "\n",
        "# Add a colorbar so we can see what numbers are associated with what colors\n",
        "# We can give the colorbar a label as a keyword argument\n",
        "plt.colorbar(label='Inflammation [no units]')"
      ]
    },
    {
      "cell_type": "markdown",
      "id": "d57a9fe5-f05f-4e4c-a2b1-0ea8cff1bff1",
      "metadata": {
        "id": "d57a9fe5-f05f-4e4c-a2b1-0ea8cff1bff1"
      },
      "source": [
        "These heat map plots give us a big picture view of what our data looks like. We can see how one patient changes over time and how the patients compare to each other on each day, in one big snapshot."
      ]
    },
    {
      "cell_type": "markdown",
      "id": "0dcaf361-531c-49fd-bc78-e3cce78d8f0d",
      "metadata": {
        "id": "0dcaf361-531c-49fd-bc78-e3cce78d8f0d"
      },
      "source": [
        "### Subplots"
      ]
    },
    {
      "cell_type": "markdown",
      "id": "6491fa03-16bf-474e-ada9-4515a42ad730",
      "metadata": {
        "id": "6491fa03-16bf-474e-ada9-4515a42ad730"
      },
      "source": [
        "Now that you are a master of plotting, let's shake it up a little and make one figure with multiple panels or subplots.  \n",
        "Let's look at the inflammation in the first 3 patients over time as line graphs. To do this, we have to build our figure piece by piece. The figure is the base that we put down. We add axes onto our figure. We add data onto our axes."
      ]
    },
    {
      "cell_type": "code",
      "execution_count": null,
      "id": "c56dfe28-0f53-4816-9502-7d52a2e9ccdb",
      "metadata": {
        "id": "c56dfe28-0f53-4816-9502-7d52a2e9ccdb",
        "outputId": "085859a6-f9e8-41a6-b0e6-900289c6c297"
      },
      "outputs": [
        {
          "data": {
            "image/png": "[encoded data removed]",
            "text/plain": [
              "<Figure size 1000x300 with 3 Axes>"
            ]
          },
          "metadata": {},
          "output_type": "display_data"
        }
      ],
      "source": [
        "# Store our subset of data in variables to stay organized\n",
        "patient0 = data[0,:]\n",
        "patient1 = data[1,:]\n",
        "patient2 = data[2,:]\n",
        "\n",
        "# This command creates the figure and stores that space in `fig`\n",
        "# figsize is a keyword argument that tells the figure how (wide, tall) we want it to be\n",
        "fig = plt.figure(figsize=(10.0, 3.0))\n",
        "\n",
        "# These commands make 3 axes. fig.add_subplot takes inputs of (# of rows, # of columns, position of this axes you are creating)\n",
        "axes1 = fig.add_subplot(1, 3, 1) # 1 row, 3 columns, 1st position\n",
        "axes2 = fig.add_subplot(1, 3, 2) # 1 row, 3 columns, 2nd position\n",
        "axes3 = fig.add_subplot(1, 3, 3) # 1 row, 3 columns, 3rd position\n",
        "\n",
        "# Now we can add data to our axes\n",
        "axes1.plot(days,patient0)\n",
        "axes1.set_ylabel('inflammation') # notice that when working with subplots, the command to make labels is slightly different\n",
        "axes1.set_xlabel('days')\n",
        "axes1.set_title('Patient 0 data')\n",
        "\n",
        "axes2.plot(patient1)\n",
        "axes2.set_ylabel('inflammation')\n",
        "axes2.set_xlabel('days')\n",
        "axes2.set_title('Patient 1 data')\n",
        "\n",
        "axes3.plot(patient2)\n",
        "axes3.set_ylabel('inflammation')\n",
        "axes3.set_xlabel('days')\n",
        "axes3.set_title('Patient 2 data')\n",
        "\n",
        "fig.tight_layout() # This command adjusts the space between the subplots so they all fit"
      ]
    },
    {
      "cell_type": "code",
      "execution_count": null,
      "id": "bf68cb73-54e8-4aa3-8c67-61abab2c121d",
      "metadata": {
        "id": "bf68cb73-54e8-4aa3-8c67-61abab2c121d"
      },
      "outputs": [],
      "source": []
    },
    {
      "cell_type": "markdown",
      "id": "206ce60c-ac6b-4c72-a8e8-a651c50f7d8f",
      "metadata": {
        "tags": [],
        "id": "206ce60c-ac6b-4c72-a8e8-a651c50f7d8f"
      },
      "source": [
        "![Sonny and Mariel high fiving.](https://content.codecademy.com/courses/learn-cpp/community-challenge/highfive.gif)\n"
      ]
    },
    {
      "cell_type": "code",
      "execution_count": null,
      "id": "7e4b616e-dbc7-41dd-9c65-af548026af7e",
      "metadata": {
        "id": "7e4b616e-dbc7-41dd-9c65-af548026af7e"
      },
      "outputs": [],
      "source": []
    },
    {
      "cell_type": "markdown",
      "id": "97fd93ed-b957-4c52-8b47-55d9c2d6b816",
      "metadata": {
        "id": "97fd93ed-b957-4c52-8b47-55d9c2d6b816"
      },
      "source": [
        "# Assignment: Use real ocean data and plot a profile and a time series of temperature\n",
        "Plot the first profile of data (hint:a profile has depth on the y axis and the temperature on the x)  \n",
        "Plot a time series of the surface temperature (hint: the first depth index is the deepest temperature measurement)  \n",
        "Plot a heat map of the full dataset (hint: don't forget a colorbar with a label)  \n",
        "\n",
        "Use the code from the examples during class to help make the plots."
      ]
    },
    {
      "cell_type": "code",
      "execution_count": null,
      "id": "16d45802-2373-467f-887b-7562dd43ea17",
      "metadata": {
        "id": "16d45802-2373-467f-887b-7562dd43ea17"
      },
      "outputs": [],
      "source": [
        "# Here is your x data for a time series\n",
        "time_days = np.arange(0,570,10) # start, stop, step\n",
        "\n",
        "# Here is your y data for your profile\n",
        "depth = np.arange(-982,-4,2)\n",
        "\n",
        "# Use both for the heatmap"
      ]
    },
    {
      "cell_type": "code",
      "execution_count": null,
      "id": "08acc86a-fe49-4168-99de-08bd1dbd17eb",
      "metadata": {
        "id": "08acc86a-fe49-4168-99de-08bd1dbd17eb"
      },
      "outputs": [],
      "source": [
        "# Load in your data from to file 'argo_temperature_2019-03-23.csv'\n",
        "argoTemp = np.loadtxt('argo_temperature_2019-03-23.csv', delimiter=',')"
      ]
    },
    {
      "cell_type": "code",
      "execution_count": null,
      "id": "4e54fe77-3977-4512-b1cf-bc1c26ed7a8b",
      "metadata": {
        "id": "4e54fe77-3977-4512-b1cf-bc1c26ed7a8b",
        "outputId": "13155708-add0-4d90-ccc9-c3cfed2259ef"
      },
      "outputs": [
        {
          "data": {
            "text/plain": [
              "(489, 57)"
            ]
          },
          "execution_count": 59,
          "metadata": {},
          "output_type": "execute_result"
        }
      ],
      "source": [
        "np.shape(argoTemp) # The array is set up with dimensions (depth, time)"
      ]
    },
    {
      "cell_type": "code",
      "execution_count": null,
      "id": "944f4f4d-90a2-4ff7-8366-72c6de09a0c4",
      "metadata": {
        "id": "944f4f4d-90a2-4ff7-8366-72c6de09a0c4"
      },
      "outputs": [],
      "source": [
        "# Plot a time series of surface temperature\n"
      ]
    },
    {
      "cell_type": "code",
      "execution_count": null,
      "id": "dd28bd42-0863-42bd-ac31-4fca8819d029",
      "metadata": {
        "id": "dd28bd42-0863-42bd-ac31-4fca8819d029"
      },
      "outputs": [],
      "source": [
        "# Plot  the first profile of temperature\n"
      ]
    },
    {
      "cell_type": "code",
      "execution_count": null,
      "id": "d6769e3f-4c23-4f82-85a4-29e723db81ab",
      "metadata": {
        "id": "d6769e3f-4c23-4f82-85a4-29e723db81ab"
      },
      "outputs": [],
      "source": [
        "# Plot a heat map of the full temperature dataset\n"
      ]
    },
    {
      "cell_type": "code",
      "execution_count": null,
      "id": "701f5e50-79c7-4184-93de-b24bb8d7141e",
      "metadata": {
        "id": "701f5e50-79c7-4184-93de-b24bb8d7141e"
      },
      "outputs": [],
      "source": []
    }
  ],
  "metadata": {
    "kernelspec": {
      "display_name": "Python 3 (ipykernel)",
      "language": "python",
      "name": "python3"
    },
    "language_info": {
      "codemirror_mode": {
        "name": "ipython",
        "version": 3
      },
      "file_extension": ".py",
      "mimetype": "text/x-python",
      "name": "python",
      "nbconvert_exporter": "python",
      "pygments_lexer": "ipython3",
      "version": "3.11.5"
    },
    "colab": {
      "provenance": [],
      "include_colab_link": true
    }
  },
  "nbformat": 4,
  "nbformat_minor": 5
}